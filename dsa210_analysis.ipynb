{
 "cells": [
  {
   "cell_type": "code",
   "execution_count": null,
   "id": "2d29d029",
   "metadata": {},
   "outputs": [],
   "source": [
    "import requests\n",
    "import json\n",
    "import pandas as pd\n",
    "import matplotlib.pyplot as plt\n",
    "import seaborn as sns\n",
    "from scipy.stats import ttest_ind\n"
   ]
  },
  {
   "cell_type": "code",
   "execution_count": null,
   "id": "14df28fc",
   "metadata": {},
   "outputs": [],
   "source": [
    "# Load your last 100 games\n",
    "with open(\"last_100_chess_games.json\", \"r\") as file:\n",
    "    games = json.load(file)\n"
   ]
  },
  {
   "cell_type": "code",
   "execution_count": null,
   "id": "1439248c",
   "metadata": {},
   "outputs": [],
   "source": [
    "# Extract relevant data\n",
    "extracted_data = []\n",
    "for game in games:\n",
    "    color = \"White\" if game[\"white\"][\"username\"].lower() == \"samuraibartu\" else \"Black\"\n",
    "    result = game[\"white\"][\"result\"] if color == \"White\" else game[\"black\"][\"result\"]\n",
    "    my_rating = game[\"white\"][\"rating\"] if color == \"White\" else game[\"black\"][\"rating\"]\n",
    "    opponent_rating = game[\"black\"][\"rating\"] if color == \"White\" else game[\"white\"][\"rating\"]\n",
    "\n",
    "    extracted_data.append({\n",
    "        \"Date\": pd.to_datetime(game[\"end_time\"], unit='s'),\n",
    "        \"Time Control\": game.get(\"time_control\"),\n",
    "        \"Time Class\": game.get(\"time_class\"),\n",
    "        \"Result\": result,\n",
    "        \"My Color\": color,\n",
    "        \"My Rating\": my_rating,\n",
    "        \"Opponent Rating\": opponent_rating,\n",
    "        \"Opponent Username\": game[\"black\"][\"username\"] if color == \"White\" else game[\"white\"][\"username\"],\n",
    "        \"URL\": game.get(\"url\")\n",
    "    })\n",
    "\n",
    "df = pd.DataFrame(extracted_data)\n",
    "df[\"Rating Diff\"] = df[\"My Rating\"] - df[\"Opponent Rating\"]\n",
    "df[\"Win\"] = df[\"Result\"].apply(lambda x: 1 if x == \"win\" else 0)\n",
    "\n",
    "df.head()\n"
   ]
  },
  {
   "cell_type": "code",
   "execution_count": null,
   "id": "c5f27aa7",
   "metadata": {},
   "outputs": [],
   "source": [
    "sns.set(style=\"whitegrid\")\n",
    "plt.figure(figsize=(6, 4))\n",
    "sns.barplot(data=df, x=\"My Color\", y=\"Win\")\n",
    "plt.title(\"Win Rate by Color\")\n",
    "plt.show()\n"
   ]
  },
  {
   "cell_type": "code",
   "execution_count": null,
   "id": "0b2dc69d",
   "metadata": {},
   "outputs": [],
   "source": [
    "plt.figure(figsize=(6, 4))\n",
    "sns.histplot(df[\"Rating Diff\"], bins=20, kde=True)\n",
    "plt.title(\"Rating Difference Distribution\")\n",
    "plt.show()\n"
   ]
  },
  {
   "cell_type": "code",
   "execution_count": null,
   "id": "6fffb118",
   "metadata": {},
   "outputs": [],
   "source": [
    "plt.figure(figsize=(8, 4))\n",
    "sns.barplot(data=df, x=\"Time Control\", y=\"Win\")\n",
    "plt.title(\"Win Rate by Time Control\")\n",
    "plt.xticks(rotation=45)\n",
    "plt.show()\n"
   ]
  },
  {
   "cell_type": "code",
   "execution_count": null,
   "id": "3f3b1dc0",
   "metadata": {},
   "outputs": [],
   "source": [
    "greater = df[df[\"Rating Diff\"] > 0][\"Win\"]\n",
    "less_equal = df[df[\"Rating Diff\"] <= 0][\"Win\"]\n",
    "t_stat, p_val = ttest_ind(greater, less_equal)\n",
    "\n",
    "print(\"T-statistic:\", round(t_stat, 3))\n",
    "print(\"P-value:\", round(p_val, 5))\n",
    "if p_val < 0.05:\n",
    "    print(\"✅ Rating difference has a statistically significant effect on win rate.\")\n",
    "else:\n",
    "    print(\"❌ No significant effect detected.\")\n"
   ]
  }
 ],
 "metadata": {},
 "nbformat": 4,
 "nbformat_minor": 5
}
